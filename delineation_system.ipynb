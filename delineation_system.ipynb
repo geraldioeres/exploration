{
    "nbformat": 4,
    "nbformat_minor": 0,
    "metadata": {
        "colab": {
            "provenance": [],
            "machine_shape": "hm",
            "gpuType": "T4",
            "collapsed_sections": [
                "uv71syFvp370",
                "hIT_hpCgqp-M"
            ],
            "authorship_tag": "ABX9TyMKIOhVqFLgQyv3Pcy5Er59"
        },
        "kernelspec": {
            "name": "python3",
            "display_name": "Python 3"
        },
        "language_info": {
            "name": "python"
        },
        "accelerator": "GPU"
    },
    "cells": [
        {
            "cell_type": "code",
            "execution_count": null,
            "metadata": {
                "id": "AoDO-lI9j4vB"
            },
            "outputs": [],
            "source": [
                "!pip install git+https://github.com/geraldioeres/detectree2.git\n",
                "!git clone https://github.com/facebookresearch/detectron2.git detectron2\n",
                "!pip install rasterstats\n",
                "!pip install --upgrade --force-reinstall rasterio"
            ]
        },
        {
            "cell_type": "code",
            "source": [
                "from google.colab import drive\n",
                "drive.mount('/content/drive')"
            ],
            "metadata": {
                "colab": {
                    "base_uri": "https://localhost:8080/"
                },
                "id": "Ditud6W1j63u",
                "executionInfo": {
                    "status": "ok",
                    "timestamp": 1752571266621,
                    "user_tz": -420,
                    "elapsed": 15565,
                    "user": {
                        "displayName": "23223042 Geraldio Ramadhan Safitri",
                        "userId": "09900519620479609915"
                    }
                },
                "outputId": "c1115abf-f348-482f-854f-d1e27e1d927b"
            },
            "execution_count": null,
            "outputs": [
                {
                    "output_type": "stream",
                    "name": "stdout",
                    "text": [
                        "Mounted at /content/drive\n"
                    ]
                }
            ]
        },
        {
            "cell_type": "code",
            "source": [
                "from detectree2.preprocessing.tiling import tile_data\n",
                "from detectree2.models.outputs import project_to_geojson, stitch_crowns, clean_crowns\n",
                "from detectree2.models.predict import predict_on_data\n",
                "from detectree2.models.train import setup_cfg\n",
                "from detectron2.engine import DefaultPredictor\n",
                "import rasterio"
            ],
            "metadata": {
                "id": "YqurADKzj9Fu"
            },
            "execution_count": null,
            "outputs": []
        },
        {
            "cell_type": "markdown",
            "source": [
                "# With Gdrive"
            ],
            "metadata": {
                "id": "uv71syFvp370"
            }
        },
        {
            "cell_type": "code",
            "source": [
                "site_path = \"/content/drive/MyDrive/Research/data/LS_Area\""
            ],
            "metadata": {
                "id": "aQefFyy4pI0t"
            },
            "execution_count": null,
            "outputs": []
        },
        {
            "cell_type": "code",
            "source": [
                "img_path = site_path + \"/rgb/ls_plot_0.tif\"\n",
                "tiles_path = site_path + \"/tilespred_temp/\""
            ],
            "metadata": {
                "id": "bxWmLG1Bj_JL"
            },
            "execution_count": null,
            "outputs": []
        },
        {
            "cell_type": "code",
            "source": [],
            "metadata": {
                "id": "INInKA4lp3Y8"
            },
            "execution_count": null,
            "outputs": []
        },
        {
            "cell_type": "code",
            "source": [
                "def delineate_forest():\n",
                "    buffer = 20\n",
                "    tile_width = 30\n",
                "    tile_height = 30\n",
                "    tile_data(img_path, tiles_path, buffer, tile_width, tile_height, dtype_bool = True)\n",
                "\n",
                "    resnet_model = \"/content/drive/MyDrive/Research/model_resnet_pointrend/model_9.pth\"\n",
                "    base_model= \"/content/detectron2/projects/PointRend/configs/InstanceSegmentation/pointrend_rcnn_R_101_FPN_3x_coco.yaml\"\n",
                "\n",
                "    cfg = setup_cfg(model_source=\"point_rend\", base_model=base_model, update_model=resnet_model)\n",
                "    predict_on_data(tiles_path, predictor=DefaultPredictor(cfg))\n",
                "    project_to_geojson(tiles_path, tiles_path + \"predictions/\", tiles_path + \"predictions_geo/\")\n",
                "    crowns = stitch_crowns(tiles_path + \"predictions_geo/\", 1)\n",
                "    clean = clean_crowns(crowns, 0.4, confidence=0.15)\n",
                "    clean.to_file(site_path + \"/\" + \"crown_pred_\" + \".gpkg\")"
            ],
            "metadata": {
                "id": "Z8Tdsyf1s_IF"
            },
            "execution_count": null,
            "outputs": []
        },
        {
            "cell_type": "code",
            "source": [],
            "metadata": {
                "colab": {
                    "base_uri": "https://localhost:8080/",
                    "height": 49,
                    "referenced_widgets": [
                        "c876322790984af385c183b66eb04769",
                        "bd77d6df4d564ee5ae044b09aea887c6",
                        "dd5e3bc0f73a41e5821132e5a1c8025c",
                        "9fdc96962244428c9c39fc58a85c6d68",
                        "f9d0c4b5fb0f4932a4f175e25903aa76",
                        "cb428805a53a48708398f5c7ace5e242",
                        "3717abcc79244e52aae705eafd667c4f",
                        "e459405f8b51411d9b74f26367beb00e",
                        "649e8a10e2334ff4a1e4d427a1eaa4f7",
                        "54d684185ac743ebb4c4d9f3823d1933",
                        "e1499407fd8344f396a43c3874ff0f15"
                    ]
                },
                "id": "VkbMWFHmkG3y",
                "executionInfo": {
                    "status": "ok",
                    "timestamp": 1752508619762,
                    "user_tz": -420,
                    "elapsed": 1641,
                    "user": {
                        "displayName": "23223042 Geraldio Ramadhan Safitri",
                        "userId": "09900519620479609915"
                    }
                },
                "outputId": "97b62fed-c133-4faa-9741-a103386a0db0"
            },
            "execution_count": null,
            "outputs": [
                {
                    "output_type": "display_data",
                    "data": {
                        "text/plain": [
                            "  0%|          | 0/4 [00:00<?, ?it/s]"
                        ],
                        "application/vnd.jupyter.widget-view+json": {
                            "version_major": 2,
                            "version_minor": 0,
                            "model_id": "c876322790984af385c183b66eb04769"
                        }
                    },
                    "metadata": {}
                }
            ]
        },
        {
            "cell_type": "code",
            "source": [],
            "metadata": {
                "id": "Kk4No1GZkuGJ"
            },
            "execution_count": null,
            "outputs": []
        },
        {
            "cell_type": "code",
            "source": [],
            "metadata": {
                "colab": {
                    "base_uri": "https://localhost:8080/"
                },
                "id": "5pD_zebDkfli",
                "executionInfo": {
                    "status": "ok",
                    "timestamp": 1752508625171,
                    "user_tz": -420,
                    "elapsed": 4854,
                    "user": {
                        "displayName": "23223042 Geraldio Ramadhan Safitri",
                        "userId": "09900519620479609915"
                    }
                },
                "outputId": "82678552-226a-4b60-dc6e-0eb57a681a05"
            },
            "execution_count": null,
            "outputs": [
                {
                    "output_type": "stream",
                    "name": "stdout",
                    "text": [
                        "Predicting 4 files in mode rgb\n",
                        "Projecting 4 files\n",
                        "clearn_crowns: Performing spatial join...\n"
                    ]
                },
                {
                    "output_type": "stream",
                    "name": "stderr",
                    "text": [
                        "clean_crowns: Processing candidate pairs: 100%|██████████| 62/62 [00:00<00:00, 907.74it/s]\n"
                    ]
                }
            ]
        },
        {
            "cell_type": "code",
            "source": [],
            "metadata": {
                "id": "oiaT9rVnm7Q7"
            },
            "execution_count": null,
            "outputs": []
        },
        {
            "cell_type": "code",
            "source": [],
            "metadata": {
                "id": "WktwbuDzp7Do"
            },
            "execution_count": null,
            "outputs": []
        },
        {
            "cell_type": "markdown",
            "source": [
                "# No Drive"
            ],
            "metadata": {
                "id": "Em3nuRg4p7JT"
            }
        },
        {
            "cell_type": "code",
            "source": [
                "def delineate_forest(ortho_path, tiles_path):\n",
                "    buffer = 20\n",
                "    tile_width = 30\n",
                "    tile_height = 30\n",
                "    print(\"Tiling orthomosaic...\")\n",
                "    tile_data(ortho_path, tiles_path, buffer, tile_width, tile_height, dtype_bool = True)\n",
                "    print(\"Done tiling.\")\n",
                "\n",
                "    resnet_pr_model = \"/content/drive/MyDrive/Research/model_resnet_pointrend/model_9.pth\"\n",
                "    base_resnetpr_model= \"/content/detectron2/projects/PointRend/configs/InstanceSegmentation/pointrend_rcnn_R_101_FPN_3x_coco.yaml\"\n",
                "\n",
                "    print(\"Delineating trees...\")\n",
                "    cfg = setup_cfg(model_source=\"point_rend\", base_model=base_resnetpr_model, update_model=resnet_pr_model)\n",
                "    predict_on_data(tiles_path, predictor=DefaultPredictor(cfg))\n",
                "    project_to_geojson(tiles_path, tiles_path + \"predictions/\", tiles_path + \"predictions_geo/\")\n",
                "    crowns = stitch_crowns(tiles_path + \"predictions_geo/\", 1)\n",
                "    clean = clean_crowns(crowns, 0.4, confidence=0.15)\n",
                "    clean.to_file(\"crown_pred2_\" + \".gpkg\")\n",
                "    print(\"\\nProcess completed.\")"
            ],
            "metadata": {
                "id": "Q7brJLextZSh"
            },
            "execution_count": null,
            "outputs": []
        },
        {
            "cell_type": "code",
            "source": [
                "ortho_path = \"/content/drive/MyDrive/Research/data/LS_Area/rgb/ls_plot_0.tif\"\n",
                "tiles_path = \"/tilespred_temp/\""
            ],
            "metadata": {
                "id": "5FngTI0Gp7JU"
            },
            "execution_count": null,
            "outputs": []
        },
        {
            "cell_type": "code",
            "source": [
                "delineate_forest(ortho_path, tiles_path)"
            ],
            "metadata": {
                "colab": {
                    "base_uri": "https://localhost:8080/",
                    "height": 205,
                    "referenced_widgets": [
                        "c2fdcb319780479a9ff7ddfb01428e79",
                        "1c1d5b3f98ea4202a9e5d2be27604bf2",
                        "c9e9ba46b99f4c3ebdb7f81e0af37edb",
                        "c01bb542170c4d4cbd8bd0c84af1bf3e",
                        "dbeb53f0e3cf418a8c9c250066ed932e",
                        "65fbf8e4971a452c8467d273fd9e7b11",
                        "d12aaa1082444473b1828fe529dc235c",
                        "1fd04954c76b4471a324868852bf1568",
                        "a16c78024952463e92869f1cdf5e40f6",
                        "7fa0134a04734b6b8ce290ae5100b4cf",
                        "2c78cd79d1684cfd978886770b6c0dcd"
                    ]
                },
                "id": "GTqBh3kEusS8",
                "executionInfo": {
                    "status": "ok",
                    "timestamp": 1752543590510,
                    "user_tz": -420,
                    "elapsed": 6134,
                    "user": {
                        "displayName": "23223042 Geraldio Ramadhan Safitri",
                        "userId": "09900519620479609915"
                    }
                },
                "outputId": "bf3f5641-a1d7-4df5-b85a-91275e933b5d"
            },
            "execution_count": null,
            "outputs": [
                {
                    "output_type": "stream",
                    "name": "stdout",
                    "text": [
                        "Tiling orthomosaic...\n"
                    ]
                },
                {
                    "output_type": "display_data",
                    "data": {
                        "text/plain": [
                            "  0%|          | 0/4 [00:00<?, ?it/s]"
                        ],
                        "application/vnd.jupyter.widget-view+json": {
                            "version_major": 2,
                            "version_minor": 0,
                            "model_id": "c2fdcb319780479a9ff7ddfb01428e79"
                        }
                    },
                    "metadata": {}
                },
                {
                    "output_type": "stream",
                    "name": "stdout",
                    "text": [
                        "Done tiling.\n",
                        "Delineating trees...\n",
                        "Predicting 4 files in mode rgb\n",
                        "Projecting 4 files\n",
                        "clearn_crowns: Performing spatial join...\n"
                    ]
                },
                {
                    "output_type": "stream",
                    "name": "stderr",
                    "text": [
                        "clean_crowns: Processing candidate pairs: 100%|██████████| 62/62 [00:00<00:00, 1032.86it/s]"
                    ]
                },
                {
                    "output_type": "stream",
                    "name": "stdout",
                    "text": [
                        "\n",
                        "Process completed.\n"
                    ]
                },
                {
                    "output_type": "stream",
                    "name": "stderr",
                    "text": [
                        "\n"
                    ]
                }
            ]
        },
        {
            "cell_type": "code",
            "source": [
                "buffer = 20\n",
                "tile_width = 30\n",
                "tile_height = 30\n",
                "tile_data(ortho_path, tiles_path, buffer, tile_width, tile_height, dtype_bool = True)"
            ],
            "metadata": {
                "colab": {
                    "base_uri": "https://localhost:8080/",
                    "height": 49,
                    "referenced_widgets": [
                        "df8b966e6c07488498273a9aebb8a8fd",
                        "059131b56d894c8f8932f4cf83d0391f",
                        "517630d0b8fc4f92b6f55b35dde36431",
                        "2a07beb41f784b5091e81286a12bbf6b",
                        "2543cc8a3bf4458585ac0223b39e9366",
                        "b9facd86b948425c909e7c753cf17d66",
                        "de0ea869eebd496d99bd721a25434f12",
                        "d3dce2af694d4ad09b59a6d411ee2ea6",
                        "b673985ad1934488820c9b42a75ae462",
                        "b740d261c8c74644b8f3f9383f9df22c",
                        "bb7a45c3a9b84541ae689532b265f6eb"
                    ]
                },
                "executionInfo": {
                    "status": "ok",
                    "timestamp": 1752508670784,
                    "user_tz": -420,
                    "elapsed": 1497,
                    "user": {
                        "displayName": "23223042 Geraldio Ramadhan Safitri",
                        "userId": "09900519620479609915"
                    }
                },
                "outputId": "31fcf765-a88a-4a08-d8da-ee6447d365df",
                "id": "bgLBIk_-p7JU"
            },
            "execution_count": null,
            "outputs": [
                {
                    "output_type": "display_data",
                    "data": {
                        "text/plain": [
                            "  0%|          | 0/4 [00:00<?, ?it/s]"
                        ],
                        "application/vnd.jupyter.widget-view+json": {
                            "version_major": 2,
                            "version_minor": 0,
                            "model_id": "df8b966e6c07488498273a9aebb8a8fd"
                        }
                    },
                    "metadata": {}
                }
            ]
        },
        {
            "cell_type": "code",
            "source": [
                "resnet_model = \"/content/drive/MyDrive/Research/model_resnet_pointrend/model_9.pth\"\n",
                "base_model= \"/content/detectron2/projects/PointRend/configs/InstanceSegmentation/pointrend_rcnn_R_101_FPN_3x_coco.yaml\""
            ],
            "metadata": {
                "id": "a7HrixXRp7JU"
            },
            "execution_count": null,
            "outputs": []
        },
        {
            "cell_type": "code",
            "source": [
                "cfg = setup_cfg(model_source=\"point_rend\", base_model=base_model, update_model=resnet_model)\n",
                "predict_on_data(tiles_path, predictor=DefaultPredictor(cfg))\n",
                "project_to_geojson(tiles_path, tiles_path + \"predictions/\", tiles_path + \"predictions_geo/\")\n",
                "crowns = stitch_crowns(tiles_path + \"predictions_geo/\", 1)\n",
                "clean = clean_crowns(crowns, 0.4, confidence=0.15)\n",
                "clean.to_file(\"crown_pred_\" + \".gpkg\")"
            ],
            "metadata": {
                "colab": {
                    "base_uri": "https://localhost:8080/"
                },
                "executionInfo": {
                    "status": "ok",
                    "timestamp": 1752508808850,
                    "user_tz": -420,
                    "elapsed": 4775,
                    "user": {
                        "displayName": "23223042 Geraldio Ramadhan Safitri",
                        "userId": "09900519620479609915"
                    }
                },
                "outputId": "9767bf06-a580-4d65-fe46-fea29194ca1f",
                "id": "8xB4dTiNp7JU"
            },
            "execution_count": null,
            "outputs": [
                {
                    "output_type": "stream",
                    "name": "stdout",
                    "text": [
                        "Predicting 4 files in mode rgb\n",
                        "Projecting 4 files\n",
                        "clearn_crowns: Performing spatial join...\n"
                    ]
                },
                {
                    "output_type": "stream",
                    "name": "stderr",
                    "text": [
                        "clean_crowns: Processing candidate pairs: 100%|██████████| 62/62 [00:00<00:00, 810.81it/s]\n"
                    ]
                }
            ]
        },
        {
            "cell_type": "code",
            "source": [
                "clean.head(10)"
            ],
            "metadata": {
                "colab": {
                    "base_uri": "https://localhost:8080/",
                    "height": 363
                },
                "id": "zONXL9z-p7JV",
                "executionInfo": {
                    "status": "ok",
                    "timestamp": 1752509272546,
                    "user_tz": -420,
                    "elapsed": 47,
                    "user": {
                        "displayName": "23223042 Geraldio Ramadhan Safitri",
                        "userId": "09900519620479609915"
                    }
                },
                "outputId": "6298f218-2ebf-4263-c735-2857d3eaab11",
                "collapsed": true
            },
            "execution_count": null,
            "outputs": [
                {
                    "output_type": "execute_result",
                    "data": {
                        "text/plain": [
                            "   Confidence_score                                           geometry\n",
                            "0          0.986591  POLYGON ((221103.567 81895.254, 221103.522 818...\n",
                            "1          0.976867  POLYGON ((221086.379 81910.995, 221086.334 819...\n",
                            "2          0.860601  POLYGON ((221122.518 81869.745, 221122.473 818...\n",
                            "3          0.685639  POLYGON ((221078.781 81886.344, 221078.736 818...\n",
                            "4          0.581683  POLYGON ((221084.389 81878.474, 221084.344 818...\n",
                            "5          0.554030  POLYGON ((221109.854 81866.443, 221109.809 818...\n",
                            "6          0.520195  POLYGON ((221079.233 81871.69, 221079.188 8187...\n",
                            "7          0.990094  POLYGON ((221122.473 81856.13, 221122.428 8185...\n",
                            "8          0.882420  POLYGON ((221107.728 81843.33, 221107.683 8184...\n",
                            "9          0.856325  POLYGON ((221130.886 81840.345, 221130.841 818..."
                        ],
                        "text/html": [
                            "\n",
                            "  <div id=\"df-bb53a805-0d55-4552-ba08-925a3c9e5c18\" class=\"colab-df-container\">\n",
                            "    <div>\n",
                            "<style scoped>\n",
                            "    .dataframe tbody tr th:only-of-type {\n",
                            "        vertical-align: middle;\n",
                            "    }\n",
                            "\n",
                            "    .dataframe tbody tr th {\n",
                            "        vertical-align: top;\n",
                            "    }\n",
                            "\n",
                            "    .dataframe thead th {\n",
                            "        text-align: right;\n",
                            "    }\n",
                            "</style>\n",
                            "<table border=\"1\" class=\"dataframe\">\n",
                            "  <thead>\n",
                            "    <tr style=\"text-align: right;\">\n",
                            "      <th></th>\n",
                            "      <th>Confidence_score</th>\n",
                            "      <th>geometry</th>\n",
                            "    </tr>\n",
                            "  </thead>\n",
                            "  <tbody>\n",
                            "    <tr>\n",
                            "      <th>0</th>\n",
                            "      <td>0.986591</td>\n",
                            "      <td>POLYGON ((221103.567 81895.254, 221103.522 818...</td>\n",
                            "    </tr>\n",
                            "    <tr>\n",
                            "      <th>1</th>\n",
                            "      <td>0.976867</td>\n",
                            "      <td>POLYGON ((221086.379 81910.995, 221086.334 819...</td>\n",
                            "    </tr>\n",
                            "    <tr>\n",
                            "      <th>2</th>\n",
                            "      <td>0.860601</td>\n",
                            "      <td>POLYGON ((221122.518 81869.745, 221122.473 818...</td>\n",
                            "    </tr>\n",
                            "    <tr>\n",
                            "      <th>3</th>\n",
                            "      <td>0.685639</td>\n",
                            "      <td>POLYGON ((221078.781 81886.344, 221078.736 818...</td>\n",
                            "    </tr>\n",
                            "    <tr>\n",
                            "      <th>4</th>\n",
                            "      <td>0.581683</td>\n",
                            "      <td>POLYGON ((221084.389 81878.474, 221084.344 818...</td>\n",
                            "    </tr>\n",
                            "    <tr>\n",
                            "      <th>5</th>\n",
                            "      <td>0.554030</td>\n",
                            "      <td>POLYGON ((221109.854 81866.443, 221109.809 818...</td>\n",
                            "    </tr>\n",
                            "    <tr>\n",
                            "      <th>6</th>\n",
                            "      <td>0.520195</td>\n",
                            "      <td>POLYGON ((221079.233 81871.69, 221079.188 8187...</td>\n",
                            "    </tr>\n",
                            "    <tr>\n",
                            "      <th>7</th>\n",
                            "      <td>0.990094</td>\n",
                            "      <td>POLYGON ((221122.473 81856.13, 221122.428 8185...</td>\n",
                            "    </tr>\n",
                            "    <tr>\n",
                            "      <th>8</th>\n",
                            "      <td>0.882420</td>\n",
                            "      <td>POLYGON ((221107.728 81843.33, 221107.683 8184...</td>\n",
                            "    </tr>\n",
                            "    <tr>\n",
                            "      <th>9</th>\n",
                            "      <td>0.856325</td>\n",
                            "      <td>POLYGON ((221130.886 81840.345, 221130.841 818...</td>\n",
                            "    </tr>\n",
                            "  </tbody>\n",
                            "</table>\n",
                            "</div>\n",
                            "    <div class=\"colab-df-buttons\">\n",
                            "\n",
                            "  <div class=\"colab-df-container\">\n",
                            "    <button class=\"colab-df-convert\" onclick=\"convertToInteractive('df-bb53a805-0d55-4552-ba08-925a3c9e5c18')\"\n",
                            "            title=\"Convert this dataframe to an interactive table.\"\n",
                            "            style=\"display:none;\">\n",
                            "\n",
                            "  <svg xmlns=\"http://www.w3.org/2000/svg\" height=\"24px\" viewBox=\"0 -960 960 960\">\n",
                            "    <path d=\"M120-120v-720h720v720H120Zm60-500h600v-160H180v160Zm220 220h160v-160H400v160Zm0 220h160v-160H400v160ZM180-400h160v-160H180v160Zm440 0h160v-160H620v160ZM180-180h160v-160H180v160Zm440 0h160v-160H620v160Z\"/>\n",
                            "  </svg>\n",
                            "    </button>\n",
                            "\n",
                            "  <style>\n",
                            "    .colab-df-container {\n",
                            "      display:flex;\n",
                            "      gap: 12px;\n",
                            "    }\n",
                            "\n",
                            "    .colab-df-convert {\n",
                            "      background-color: #E8F0FE;\n",
                            "      border: none;\n",
                            "      border-radius: 50%;\n",
                            "      cursor: pointer;\n",
                            "      display: none;\n",
                            "      fill: #1967D2;\n",
                            "      height: 32px;\n",
                            "      padding: 0 0 0 0;\n",
                            "      width: 32px;\n",
                            "    }\n",
                            "\n",
                            "    .colab-df-convert:hover {\n",
                            "      background-color: #E2EBFA;\n",
                            "      box-shadow: 0px 1px 2px rgba(60, 64, 67, 0.3), 0px 1px 3px 1px rgba(60, 64, 67, 0.15);\n",
                            "      fill: #174EA6;\n",
                            "    }\n",
                            "\n",
                            "    .colab-df-buttons div {\n",
                            "      margin-bottom: 4px;\n",
                            "    }\n",
                            "\n",
                            "    [theme=dark] .colab-df-convert {\n",
                            "      background-color: #3B4455;\n",
                            "      fill: #D2E3FC;\n",
                            "    }\n",
                            "\n",
                            "    [theme=dark] .colab-df-convert:hover {\n",
                            "      background-color: #434B5C;\n",
                            "      box-shadow: 0px 1px 3px 1px rgba(0, 0, 0, 0.15);\n",
                            "      filter: drop-shadow(0px 1px 2px rgba(0, 0, 0, 0.3));\n",
                            "      fill: #FFFFFF;\n",
                            "    }\n",
                            "  </style>\n",
                            "\n",
                            "    <script>\n",
                            "      const buttonEl =\n",
                            "        document.querySelector('#df-bb53a805-0d55-4552-ba08-925a3c9e5c18 button.colab-df-convert');\n",
                            "      buttonEl.style.display =\n",
                            "        google.colab.kernel.accessAllowed ? 'block' : 'none';\n",
                            "\n",
                            "      async function convertToInteractive(key) {\n",
                            "        const element = document.querySelector('#df-bb53a805-0d55-4552-ba08-925a3c9e5c18');\n",
                            "        const dataTable =\n",
                            "          await google.colab.kernel.invokeFunction('convertToInteractive',\n",
                            "                                                    [key], {});\n",
                            "        if (!dataTable) return;\n",
                            "\n",
                            "        const docLinkHtml = 'Like what you see? Visit the ' +\n",
                            "          '<a target=\"_blank\" href=https://colab.research.google.com/notebooks/data_table.ipynb>data table notebook</a>'\n",
                            "          + ' to learn more about interactive tables.';\n",
                            "        element.innerHTML = '';\n",
                            "        dataTable['output_type'] = 'display_data';\n",
                            "        await google.colab.output.renderOutput(dataTable, element);\n",
                            "        const docLink = document.createElement('div');\n",
                            "        docLink.innerHTML = docLinkHtml;\n",
                            "        element.appendChild(docLink);\n",
                            "      }\n",
                            "    </script>\n",
                            "  </div>\n",
                            "\n",
                            "\n",
                            "    <div id=\"df-870e8035-445e-48c4-ad3a-7735d60a2532\">\n",
                            "      <button class=\"colab-df-quickchart\" onclick=\"quickchart('df-870e8035-445e-48c4-ad3a-7735d60a2532')\"\n",
                            "                title=\"Suggest charts\"\n",
                            "                style=\"display:none;\">\n",
                            "\n",
                            "<svg xmlns=\"http://www.w3.org/2000/svg\" height=\"24px\"viewBox=\"0 0 24 24\"\n",
                            "     width=\"24px\">\n",
                            "    <g>\n",
                            "        <path d=\"M19 3H5c-1.1 0-2 .9-2 2v14c0 1.1.9 2 2 2h14c1.1 0 2-.9 2-2V5c0-1.1-.9-2-2-2zM9 17H7v-7h2v7zm4 0h-2V7h2v10zm4 0h-2v-4h2v4z\"/>\n",
                            "    </g>\n",
                            "</svg>\n",
                            "      </button>\n",
                            "\n",
                            "<style>\n",
                            "  .colab-df-quickchart {\n",
                            "      --bg-color: #E8F0FE;\n",
                            "      --fill-color: #1967D2;\n",
                            "      --hover-bg-color: #E2EBFA;\n",
                            "      --hover-fill-color: #174EA6;\n",
                            "      --disabled-fill-color: #AAA;\n",
                            "      --disabled-bg-color: #DDD;\n",
                            "  }\n",
                            "\n",
                            "  [theme=dark] .colab-df-quickchart {\n",
                            "      --bg-color: #3B4455;\n",
                            "      --fill-color: #D2E3FC;\n",
                            "      --hover-bg-color: #434B5C;\n",
                            "      --hover-fill-color: #FFFFFF;\n",
                            "      --disabled-bg-color: #3B4455;\n",
                            "      --disabled-fill-color: #666;\n",
                            "  }\n",
                            "\n",
                            "  .colab-df-quickchart {\n",
                            "    background-color: var(--bg-color);\n",
                            "    border: none;\n",
                            "    border-radius: 50%;\n",
                            "    cursor: pointer;\n",
                            "    display: none;\n",
                            "    fill: var(--fill-color);\n",
                            "    height: 32px;\n",
                            "    padding: 0;\n",
                            "    width: 32px;\n",
                            "  }\n",
                            "\n",
                            "  .colab-df-quickchart:hover {\n",
                            "    background-color: var(--hover-bg-color);\n",
                            "    box-shadow: 0 1px 2px rgba(60, 64, 67, 0.3), 0 1px 3px 1px rgba(60, 64, 67, 0.15);\n",
                            "    fill: var(--button-hover-fill-color);\n",
                            "  }\n",
                            "\n",
                            "  .colab-df-quickchart-complete:disabled,\n",
                            "  .colab-df-quickchart-complete:disabled:hover {\n",
                            "    background-color: var(--disabled-bg-color);\n",
                            "    fill: var(--disabled-fill-color);\n",
                            "    box-shadow: none;\n",
                            "  }\n",
                            "\n",
                            "  .colab-df-spinner {\n",
                            "    border: 2px solid var(--fill-color);\n",
                            "    border-color: transparent;\n",
                            "    border-bottom-color: var(--fill-color);\n",
                            "    animation:\n",
                            "      spin 1s steps(1) infinite;\n",
                            "  }\n",
                            "\n",
                            "  @keyframes spin {\n",
                            "    0% {\n",
                            "      border-color: transparent;\n",
                            "      border-bottom-color: var(--fill-color);\n",
                            "      border-left-color: var(--fill-color);\n",
                            "    }\n",
                            "    20% {\n",
                            "      border-color: transparent;\n",
                            "      border-left-color: var(--fill-color);\n",
                            "      border-top-color: var(--fill-color);\n",
                            "    }\n",
                            "    30% {\n",
                            "      border-color: transparent;\n",
                            "      border-left-color: var(--fill-color);\n",
                            "      border-top-color: var(--fill-color);\n",
                            "      border-right-color: var(--fill-color);\n",
                            "    }\n",
                            "    40% {\n",
                            "      border-color: transparent;\n",
                            "      border-right-color: var(--fill-color);\n",
                            "      border-top-color: var(--fill-color);\n",
                            "    }\n",
                            "    60% {\n",
                            "      border-color: transparent;\n",
                            "      border-right-color: var(--fill-color);\n",
                            "    }\n",
                            "    80% {\n",
                            "      border-color: transparent;\n",
                            "      border-right-color: var(--fill-color);\n",
                            "      border-bottom-color: var(--fill-color);\n",
                            "    }\n",
                            "    90% {\n",
                            "      border-color: transparent;\n",
                            "      border-bottom-color: var(--fill-color);\n",
                            "    }\n",
                            "  }\n",
                            "</style>\n",
                            "\n",
                            "      <script>\n",
                            "        async function quickchart(key) {\n",
                            "          const quickchartButtonEl =\n",
                            "            document.querySelector('#' + key + ' button');\n",
                            "          quickchartButtonEl.disabled = true;  // To prevent multiple clicks.\n",
                            "          quickchartButtonEl.classList.add('colab-df-spinner');\n",
                            "          try {\n",
                            "            const charts = await google.colab.kernel.invokeFunction(\n",
                            "                'suggestCharts', [key], {});\n",
                            "          } catch (error) {\n",
                            "            console.error('Error during call to suggestCharts:', error);\n",
                            "          }\n",
                            "          quickchartButtonEl.classList.remove('colab-df-spinner');\n",
                            "          quickchartButtonEl.classList.add('colab-df-quickchart-complete');\n",
                            "        }\n",
                            "        (() => {\n",
                            "          let quickchartButtonEl =\n",
                            "            document.querySelector('#df-870e8035-445e-48c4-ad3a-7735d60a2532 button');\n",
                            "          quickchartButtonEl.style.display =\n",
                            "            google.colab.kernel.accessAllowed ? 'block' : 'none';\n",
                            "        })();\n",
                            "      </script>\n",
                            "    </div>\n",
                            "\n",
                            "    </div>\n",
                            "  </div>\n"
                        ],
                        "application/vnd.google.colaboratory.intrinsic+json": {
                            "type": "dataframe",
                            "variable_name": "clean",
                            "summary": "{\n  \"name\": \"clean\",\n  \"rows\": 29,\n  \"fields\": [\n    {\n      \"column\": \"Confidence_score\",\n      \"properties\": {\n        \"dtype\": \"number\",\n        \"std\": 0.1754718202182254,\n        \"min\": 0.506564736366272,\n        \"max\": 0.9900937676429749,\n        \"num_unique_values\": 29,\n        \"samples\": [\n          0.6944230198860168,\n          0.9631463885307312,\n          0.5698118209838867\n        ],\n        \"semantic_type\": \"\",\n        \"description\": \"\"\n      }\n    },\n    {\n      \"column\": \"geometry\",\n      \"properties\": {\n        \"dtype\": \"geometry\",\n        \"num_unique_values\": 29,\n        \"samples\": [\n          \"POLYGON ((221159.38103829316 81836.72657243362, 221159.33580808688 81836.68134222734, 221158.97396643664 81836.68134222734, 221158.92873623036 81836.63611202106, 221158.70258519897 81836.63611202106, 221158.6573549927 81836.68134222734, 221158.56689458014 81836.68134222734, 221158.52166437384 81836.63611202106, 221158.43120396129 81836.63611202106, 221158.385973755 81836.59088181479, 221158.34074354873 81836.59088181479, 221158.25028313618 81836.50042140222, 221158.15982272362 81836.50042140222, 221158.11459251735 81836.45519119594, 221158.02413210477 81836.45519119594, 221157.9789018985 81836.40996098967, 221157.9336716922 81836.40996098967, 221157.88844148593 81836.36473078339, 221157.84321127966 81836.36473078339, 221157.79798107338 81836.31950057711, 221157.7527508671 81836.31950057711, 221157.61706024827 81836.18380995827, 221157.57183004197 81836.18380995827, 221157.5265998357 81836.13857975199, 221157.48136962941 81836.13857975199, 221157.43613942314 81836.09334954571, 221157.39090921686 81836.09334954571, 221157.34567901058 81836.04811933944, 221157.3004488043 81836.04811933944, 221157.25521859803 81836.00288913315, 221157.20998839175 81836.00288913315, 221157.16475818548 81835.95765892687, 221157.11952797917 81835.95765892687, 221157.0742977729 81835.91242872059, 221156.98383736034 81835.91242872059, 221156.93860715406 81835.86719851432, 221156.80291653523 81835.86719851432, 221156.75768632896 81835.82196830804, 221156.71245612268 81835.82196830804, 221156.6672259164 81835.77673810175, 221156.53153529754 81835.77673810175, 221156.48630509127 81835.73150789547, 221156.35061447244 81835.73150789547, 221156.30538426616 81835.6862776892, 221156.2149238536 81835.6862776892, 221156.1696936473 81835.64104748292, 221155.89831240964 81835.64104748292, 221155.85308220336 81835.6862776892, 221155.7173915845 81835.6862776892, 221155.67216137823 81835.73150789547, 221155.62693117195 81835.73150789547, 221155.58170096567 81835.6862776892, 221155.49124055312 81835.6862776892, 221155.44601034684 81835.64104748292, 221155.3555499343 81835.64104748292, 221155.21985931543 81835.50535686407, 221155.17462910915 81835.50535686407, 221155.12939890288 81835.4601266578, 221155.12939890288 81835.36966624524, 221155.0841686966 81835.32443603895, 221155.0841686966 81835.27920583267, 221154.99370828405 81835.18874542012, 221154.99370828405 81835.09828500757, 221154.94847807777 81835.05305480128, 221154.94847807777 81835.007824595, 221154.9032478715 81834.96259438872, 221154.9032478715 81834.91736418245, 221154.72232704636 81834.73644335732, 221154.72232704636 81834.60075273848, 221154.67709684008 81834.5555225322, 221154.67709684008 81834.51029232593, 221154.6318666338 81834.46506211965, 221154.6318666338 81834.3293715008, 221154.58663642753 81834.28414129453, 221154.58663642753 81834.14845067568, 221154.54140622125 81834.1032204694, 221154.54140622125 81833.56045799406, 221154.58663642753 81833.51522778778, 221154.58663642753 81833.4699975815, 221154.6318666338 81833.42476737521, 221154.6318666338 81833.37953716893, 221154.67709684008 81833.33430696266, 221154.67709684008 81833.28907675638, 221154.72232704636 81833.2438465501, 221154.72232704636 81833.19861634381, 221154.76755725264 81833.15338613754, 221154.76755725264 81833.10815593126, 221154.81278745894 81833.06292572498, 221154.81278745894 81833.0176955187, 221154.85801766522 81832.97246531241, 221154.85801766522 81832.88200489986, 221154.9032478715 81832.83677469358, 221154.9032478715 81832.7915444873, 221154.94847807777 81832.74631428103, 221154.94847807777 81832.65585386846, 221154.99370828405 81832.61062366219, 221154.99370828405 81832.47493304334, 221155.03893849032 81832.42970283706, 221155.03893849032 81832.33924242451, 221155.3555499343 81832.02263098054, 221155.3555499343 81831.93217056799, 221155.40078014057 81831.88694036171, 221155.40078014057 81831.75124974287, 221155.44601034684 81831.70601953659, 221155.44601034684 81831.61555912404, 221155.49124055312 81831.57032891776, 221155.49124055312 81831.52509871147, 221155.5364707594 81831.4798685052, 221155.5364707594 81831.38940809264, 221155.58170096567 81831.34417788636, 221155.58170096567 81831.29894768007, 221155.62693117195 81831.2537174738, 221155.62693117195 81831.16325706124, 221155.67216137823 81831.11802685497, 221155.67216137823 81831.0275664424, 221155.7173915845 81830.98233623612, 221155.7173915845 81830.93710602984, 221155.7626217908 81830.89187582357, 221155.7626217908 81830.75618520472, 221155.8078519971 81830.71095499845, 221155.8078519971 81830.66572479217, 221155.85308220336 81830.62049458588, 221155.85308220336 81830.5752643796, 221155.89831240964 81830.53003417332, 221155.89831240964 81830.43957376077, 221155.94354261592 81830.3943435545, 221155.94354261592 81830.3491133482, 221155.9887728222 81830.30388314193, 221155.9887728222 81830.25865293565, 221156.03400302847 81830.21342272937, 221156.03400302847 81830.1681925231, 221156.07923323475 81830.1229623168, 221156.07923323475 81830.07773211053, 221156.12446344103 81830.03250190425, 221156.12446344103 81829.9420414917, 221156.1696936473 81829.8968112854, 221156.1696936473 81829.76112066658, 221156.2149238536 81829.7158904603, 221156.2149238536 81829.39927901633, 221156.26015405988 81829.35404881006, 221156.26015405988 81829.17312798493, 221156.30538426616 81829.12789777866, 221156.30538426616 81828.94697695354, 221156.35061447244 81828.90174674726, 221156.35061447244 81828.8112863347, 221156.57676550382 81828.5851353033, 221156.57676550382 81828.53990509703, 221156.80291653523 81828.31375406563, 221156.80291653523 81828.26852385934, 221156.8481467415 81828.22329365306, 221156.8933769478 81828.22329365306, 221157.11952797917 81827.99714262167, 221157.16475818548 81827.99714262167, 221157.25521859803 81827.90668220911, 221157.3004488043 81827.90668220911, 221157.34567901058 81827.86145200283, 221157.39090921686 81827.86145200283, 221157.48136962941 81827.77099159027, 221157.48136962941 81827.72576138399, 221157.57183004197 81827.63530097144, 221157.57183004197 81827.59007076516, 221157.61706024827 81827.54484055887, 221157.61706024827 81827.49961035259, 221157.79798107338 81827.31868952747, 221157.84321127966 81827.31868952747, 221157.88844148593 81827.2734593212, 221157.9789018985 81827.2734593212, 221158.02413210477 81827.22822911492, 221158.47643416756 81827.22822911492, 221158.52166437384 81827.18299890864, 221158.8382758178 81827.18299890864, 221158.88350602408 81827.22822911492, 221158.97396643664 81827.22822911492, 221159.01919664294 81827.2734593212, 221159.1096570555 81827.2734593212, 221159.15488726177 81827.31868952747, 221159.33580808688 81827.31868952747, 221159.38103829316 81827.36391973376, 221159.42626849943 81827.36391973376, 221159.4714987057 81827.40914994004, 221159.7428799434 81827.40914994004, 221159.78811014968 81827.36391973376, 221160.05949138736 81827.36391973376, 221160.10472159364 81827.31868952747, 221160.1951820062 81827.31868952747, 221160.3761028313 81827.49961035259, 221160.4213330376 81827.49961035259, 221160.55702365644 81827.63530097144, 221160.60225386271 81827.63530097144, 221160.647484069 81827.68053117771, 221160.69271427527 81827.68053117771, 221160.73794448155 81827.72576138399, 221160.78317468782 81827.72576138399, 221160.8284048941 81827.77099159027, 221160.96409551296 81827.77099159027, 221161.00932571923 81827.81622179656, 221161.0997861318 81827.81622179656, 221161.14501633807 81827.86145200283, 221161.23547675062 81827.86145200283, 221161.2807069569 81827.90668220911, 221161.32593716317 81827.90668220911, 221161.37116736948 81827.95191241539, 221161.41639757575 81827.95191241539, 221161.46162778203 81827.99714262167, 221161.5068579883 81827.99714262167, 221161.59731840086 81828.08760303423, 221161.7330090197 81828.08760303423, 221161.77823922597 81828.13283324051, 221162.00439025738 81828.13283324051, 221162.04962046366 81828.17806344679, 221162.1853110825 81828.17806344679, 221162.23054128877 81828.22329365306, 221162.27577149504 81828.22329365306, 221162.32100170135 81828.26852385934, 221162.36623190762 81828.26852385934, 221162.50192252646 81828.40421447819, 221162.50192252646 81828.94697695354, 221162.45669232018 81828.99220715983, 221162.45669232018 81829.21835819121, 221162.4114621139 81829.2635883975, 221162.4114621139 81829.53496963518, 221162.36623190762 81829.58019984145, 221162.36623190762 81829.8968112854, 221162.32100170135 81829.9420414917, 221162.32100170135 81829.98727169797, 221162.27577149504 81830.03250190425, 221162.27577149504 81830.07773211053, 221162.23054128877 81830.1229623168, 221162.23054128877 81830.1681925231, 221162.1853110825 81830.21342272937, 221162.1853110825 81830.25865293565, 221161.55208819458 81830.89187582357, 221161.55208819458 81830.93710602984, 221161.5068579883 81830.98233623612, 221161.5068579883 81831.0275664424, 221161.46162778203 81831.07279664867, 221161.46162778203 81831.11802685497, 221161.41639757575 81831.16325706124, 221161.41639757575 81831.20848726752, 221161.23547675062 81831.38940809264, 221161.23547675062 81831.43463829892, 221161.19024654434 81831.4798685052, 221161.19024654434 81831.52509871147, 221161.14501633807 81831.57032891776, 221161.14501633807 81831.66078933032, 221161.0997861318 81831.70601953659, 221161.0997861318 81832.02263098054, 221161.0545559255 81832.06786118684, 221161.0545559255 81832.33924242451, 221161.00932571923 81832.38447263079, 221161.00932571923 81832.74631428103, 221160.96409551296 81832.7915444873, 221160.96409551296 81833.28907675638, 221160.91886530668 81833.33430696266, 221160.91886530668 81833.78660902545, 221160.96409551296 81833.83183923173, 221160.96409551296 81834.1032204694, 221161.00932571923 81834.14845067568, 221161.00932571923 81834.3293715008, 221161.0545559255 81834.37460170708, 221161.0545559255 81834.46506211965, 221161.0997861318 81834.51029232593, 221161.0997861318 81834.60075273848, 221161.14501633807 81834.64598294477, 221161.14501633807 81834.69121315105, 221161.19024654434 81834.73644335732, 221161.19024654434 81834.7816735636, 221161.23547675062 81834.82690376988, 221161.23547675062 81834.91736418245, 221161.2807069569 81834.96259438872, 221161.2807069569 81835.36966624524, 221161.23547675062 81835.41489645152, 221161.23547675062 81835.50535686407, 221161.19024654434 81835.55058707035, 221161.19024654434 81835.64104748292, 221161.14501633807 81835.6862776892, 221161.14501633807 81835.77673810175, 221161.0997861318 81835.82196830804, 221161.0997861318 81835.91242872059, 221161.0545559255 81835.95765892687, 221161.0545559255 81836.04811933944, 221161.00932571923 81836.09334954571, 221161.00932571923 81836.13857975199, 221160.91886530668 81836.22904016454, 221160.91886530668 81836.27427037084, 221160.87363510038 81836.27427037084, 221160.69271427527 81836.45519119594, 221160.647484069 81836.45519119594, 221160.55702365644 81836.54565160851, 221160.51179345016 81836.54565160851, 221160.46656324388 81836.59088181479, 221160.4213330376 81836.59088181479, 221160.3761028313 81836.63611202106, 221160.33087262503 81836.63611202106, 221160.24041221247 81836.72657243362, 221159.38103829316 81836.72657243362))\",\n          \"POLYGON ((221137.48961845387 81869.9707740491, 221137.4443882476 81869.92554384282, 221137.353927835 81869.92554384282, 221137.30869762873 81869.88031363655, 221137.21823721618 81869.88031363655, 221137.1730070099 81869.83508343027, 221136.9016257722 81869.83508343027, 221136.85639556593 81869.78985322398, 221136.7207049471 81869.78985322398, 221136.67547474083 81869.7446230177, 221136.539784122 81869.7446230177, 221136.49455391572 81869.69939281142, 221136.4493237094 81869.69939281142, 221136.40409350314 81869.65416260515, 221136.31363309058 81869.65416260515, 221136.22317267803 81869.56370219258, 221136.17794247175 81869.56370219258, 221136.0874820592 81869.47324178003, 221135.99702164662 81869.47324178003, 221135.95179144034 81869.42801157375, 221135.8613310278 81869.42801157375, 221135.8161008215 81869.38278136747, 221135.72564040896 81869.38278136747, 221135.68041020268 81869.42801157375, 221135.58994979013 81869.42801157375, 221135.49948937754 81869.5184719863, 221135.45425917127 81869.5184719863, 221135.409028965 81869.56370219258, 221135.3637987587 81869.56370219258, 221135.3637987587 81869.5184719863, 221135.31856855244 81869.47324178003, 221135.27333834616 81869.47324178003, 221135.13764772733 81869.33755116118, 221135.00195710847 81869.33755116118, 221134.9567269022 81869.2923209549, 221134.7758060771 81869.2923209549, 221134.7305758708 81869.24709074863, 221134.54965504567 81869.24709074863, 221134.5044248394 81869.20186054235, 221134.36873422057 81869.20186054235, 221134.3235040143 81869.15663033607, 221134.23304360174 81869.15663033607, 221134.18781339546 81869.11140012978, 221134.09735298288 81869.11140012978, 221134.0521227766 81869.0661699235, 221133.96166236405 81869.0661699235, 221133.91643215777 81869.02093971723, 221133.8712019515 81869.02093971723, 221133.82597174522 81868.97570951095, 221133.78074153894 81868.97570951095, 221133.64505092008 81868.84001889211, 221133.55459050753 81868.84001889211, 221133.50936030125 81868.79478868583, 221133.37366968242 81868.79478868583, 221133.32843947614 81868.74955847955, 221133.28320926987 81868.74955847955, 221133.2379790636 81868.70432827328, 221133.1927488573 81868.70432827328, 221133.147518651 81868.659098067, 221133.10228844473 81868.659098067, 221133.01182803218 81868.56863765443, 221132.92136761962 81868.56863765443, 221132.87613741335 81868.52340744816, 221132.83090720707 81868.52340744816, 221132.7856770008 81868.47817724188, 221132.74044679452 81868.47817724188, 221132.6952165882 81868.4329470356, 221132.64998638193 81868.4329470356, 221132.55952596938 81868.34248662303, 221132.5142957631 81868.34248662303, 221132.46906555683 81868.29725641676, 221132.42383535055 81868.29725641676, 221132.37860514427 81868.25202621048, 221132.333374938 81868.25202621048, 221132.28814473172 81868.2067960042, 221132.2429145254 81868.2067960042, 221132.19768431914 81868.16156579791, 221132.15245411286 81868.16156579791, 221132.10722390658 81868.11633559164, 221132.0619937003 81868.11633559164, 221132.01676349403 81868.07110538536, 221131.97153328775 81868.07110538536, 221131.92630308148 81868.02587517908, 221131.74538225634 81868.02587517908, 221131.70015205006 81867.9806449728, 221131.47400101868 81867.9806449728, 221131.4287708124 81867.93541476651, 221131.11215936844 81867.93541476651, 221131.06692916216 81867.89018456024, 221130.88600833705 81867.89018456024, 221130.84077813078 81867.84495435396, 221130.79554792447 81867.84495435396, 221130.7503177182 81867.79972414768, 221130.70508751192 81867.79972414768, 221130.65985730564 81867.75449394141, 221130.61462709936 81867.75449394141, 221130.5693968931 81867.70926373513, 221130.43370627426 81867.70926373513, 221130.38847606798 81867.66403352884, 221130.2980156554 81867.66403352884, 221130.25278544912 81867.61880332256, 221130.20755524284 81867.61880332256, 221130.16232503657 81867.57357311629, 221130.1170948303 81867.57357311629, 221130.071864624 81867.52834291001, 221129.98140421146 81867.52834291001, 221129.93617400518 81867.48311270373, 221129.89094379888 81867.48311270373, 221129.75525318005 81867.34742208489, 221129.71002297377 81867.34742208489, 221129.61956256122 81867.25696167233, 221129.57433235494 81867.25696167233, 221129.52910214866 81867.21173146604, 221129.4838719424 81867.21173146604, 221129.4386417361 81867.16650125977, 221129.34818132353 81867.16650125977, 221129.30295111725 81867.12127105349, 221129.25772091097 81867.12127105349, 221129.2124907047 81867.07604084721, 221129.16726049842 81867.07604084721, 221129.12203029214 81867.03081064094, 221129.07680008587 81867.03081064094, 221128.941109467 81866.89512002209, 221128.941109467 81866.84988981581, 221128.89587926073 81866.80465960954, 221128.89587926073 81866.75942940325, 221128.80541884818 81866.66896899069, 221128.80541884818 81866.62373878442, 221128.71495843562 81866.53327837185, 221128.71495843562 81866.48804816557, 221128.62449802307 81866.39758775302, 221128.62449802307 81866.30712734046, 221128.5792678168 81866.26189713417, 221128.5792678168 81866.03574610277, 221128.53403761052 81865.9905158965, 221128.53403761052 81865.90005548394, 221128.4888074042 81865.85482527767, 221128.4888074042 81865.80959507138, 221128.3078865791 81865.62867424627, 221128.3078865791 81865.58344403998, 221128.17219596027 81865.44775342115, 221128.126965754 81865.44775342115, 221127.99127513514 81865.3120628023, 221127.94604492886 81865.3120628023, 221127.8555845163 81865.22160238975, 221127.81035431003 81865.22160238975, 221127.6746636912 81865.0859117709, 221127.6746636912 81865.04068156463, 221127.62943348492 81864.99545135835, 221127.62943348492 81864.95022115207, 221127.58420327865 81864.9049909458, 221127.58420327865 81864.8597607395, 221127.53897307234 81864.81453053323, 221127.53897307234 81864.76930032695, 221127.4032824535 81864.63360970811, 221127.35805224723 81864.63360970811, 221127.35805224723 81864.54314929555, 221127.31282204096 81864.49791908928, 221127.31282204096 81864.27176805788, 221127.26759183468 81864.2265378516, 221127.26759183468 81864.0003868202, 221127.31282204096 81863.95515661393, 221127.31282204096 81863.90992640764, 221127.35805224723 81863.86469620136, 221127.35805224723 81863.81946599508, 221127.58420327865 81863.59331496368, 221127.58420327865 81863.32193372601, 221127.62943348492 81863.27670351973, 221127.62943348492 81863.09578269461, 221127.76512410375 81862.96009207577, 221127.8555845163 81862.96009207577, 221127.90081472258 81862.91486186949, 221127.94604492886 81862.91486186949, 221127.99127513514 81862.86963166321, 221128.03650534144 81862.86963166321, 221128.08173554772 81862.82440145694, 221128.126965754 81862.82440145694, 221128.17219596027 81862.77917125066, 221128.21742616655 81862.77917125066, 221128.39834699166 81862.59825042554, 221128.39834699166 81862.55302021926, 221128.62449802307 81862.32686918786, 221128.66972822935 81862.32686918786, 221128.71495843562 81862.28163898157, 221128.7601886419 81862.28163898157, 221128.80541884818 81862.2364087753, 221128.89587926073 81862.2364087753, 221128.941109467 81862.19117856902, 221128.9863396733 81862.19117856902, 221129.07680008587 81862.10071815646, 221129.12203029214 81862.10071815646, 221129.16726049842 81862.05548795017, 221129.2124907047 81862.05548795017, 221129.34818132353 81861.91979733134, 221129.34818132353 81861.87456712507, 221129.3934115298 81861.82933691877, 221129.3934115298 81861.7841067125, 221129.4838719424 81861.69364629994, 221129.4838719424 81861.64841609367, 221129.52910214866 81861.60318588739, 221129.52910214866 81861.51272547482, 221129.57433235494 81861.46749526855, 221129.57433235494 81861.42226506227, 221129.61956256122 81861.37703485599, 221129.6647927675 81861.37703485599, 221129.71002297377 81861.3318046497, 221129.75525318005 81861.3318046497, 221129.8457135926 81861.24134423715, 221129.8457135926 81861.06042341203, 221129.80048338632 81861.01519320575, 221129.80048338632 81860.8795025869, 221129.71002297377 81860.78904217435, 221129.71002297377 81860.74381196807, 221129.61956256122 81860.6533515555, 221129.61956256122 81860.60812134923, 221129.57433235494 81860.56289114295, 221129.57433235494 81860.42720052412, 221129.52910214866 81860.38197031783, 221129.52910214866 81860.29150990528, 221129.4838719424 81860.246279699, 221129.4838719424 81860.20104949272, 221129.4386417361 81860.15581928643, 221129.4386417361 81860.11058908016, 221129.34818132353 81860.0201286676, 221129.34818132353 81859.97489846133, 221129.25772091097 81859.88443804876, 221129.2124907047 81859.88443804876, 221129.16726049842 81859.83920784248, 221129.16726049842 81859.7939776362, 221129.12203029214 81859.74874742993, 221129.12203029214 81859.70351722364, 221129.07680008587 81859.65828701736, 221129.07680008587 81859.5678266048, 221129.0315698796 81859.52259639853, 221129.0315698796 81859.47736619224, 221128.71495843562 81859.16075474829, 221128.71495843562 81859.11552454201, 221128.4888074042 81858.88937351061, 221128.4888074042 81858.66322247921, 221128.53403761052 81858.61799227294, 221128.53403761052 81858.57276206666, 221128.5792678168 81858.52753186037, 221128.5792678168 81858.48230165409, 221128.62449802307 81858.43707144781, 221128.62449802307 81858.39184124154, 221128.66972822935 81858.34661103526, 221128.66972822935 81858.25615062269, 221128.71495843562 81858.21092041642, 221128.71495843562 81858.12046000386, 221128.7601886419 81858.07522979757, 221128.7601886419 81857.98476938502, 221128.85064905445 81857.89430897246, 221128.85064905445 81857.84907876619, 221128.89587926073 81857.8038485599, 221128.89587926073 81857.75861835362, 221129.0315698796 81857.62292773479, 221129.0315698796 81857.5776975285, 221129.07680008587 81857.53246732222, 221129.07680008587 81857.48723711594, 221129.4386417361 81857.1253954657, 221129.4838719424 81857.1253954657, 221129.52910214866 81857.08016525942, 221129.57433235494 81857.08016525942, 221129.61956256122 81857.03493505315, 221129.75525318005 81857.03493505315, 221129.80048338632 81856.98970484687, 221129.8457135926 81856.98970484687, 221129.89094379888 81857.03493505315, 221129.98140421146 81857.03493505315, 221130.02663441774 81857.08016525942, 221130.071864624 81857.08016525942, 221130.1170948303 81857.1253954657, 221130.20755524284 81857.1253954657, 221130.2980156554 81857.21585587827, 221130.34324586167 81857.21585587827, 221130.43370627426 81857.30631629082, 221130.5241666868 81857.30631629082, 221130.5693968931 81857.3515464971, 221130.65985730564 81857.3515464971, 221130.70508751192 81857.39677670339, 221130.79554792447 81857.39677670339, 221130.84077813078 81857.44200690967, 221130.88600833705 81857.44200690967, 221130.93123854333 81857.48723711594, 221130.9764687496 81857.48723711594, 221131.02169895588 81857.53246732222, 221131.11215936844 81857.53246732222, 221131.1573895747 81857.5776975285, 221131.33831039985 81857.5776975285, 221131.38354060613 81857.62292773479, 221131.47400101868 81857.62292773479, 221131.51923122496 81857.66815794107, 221131.6096916375 81857.66815794107, 221131.74538225634 81857.8038485599, 221131.74538225634 81857.84907876619, 221131.92630308148 81858.0299995913, 221131.97153328775 81858.0299995913, 221132.0619937003 81858.12046000386, 221132.0619937003 81858.16569021014, 221132.10722390658 81858.21092041642, 221132.10722390658 81858.30138082897, 221132.15245411286 81858.34661103526, 221132.15245411286 81858.43707144781, 221132.333374938 81858.61799227294, 221132.37860514427 81858.61799227294, 221132.60475617566 81858.84414330433, 221132.7856770008 81858.84414330433, 221132.83090720707 81858.79891309806, 221132.92136761962 81858.79891309806, 221132.9665978259 81858.75368289177, 221133.46413009497 81858.75368289177, 221133.50936030125 81858.70845268549, 221133.5998207138 81858.70845268549, 221133.64505092008 81858.66322247921, 221133.6902811264 81858.70845268549, 221133.78074153894 81858.70845268549, 221133.82597174522 81858.75368289177, 221134.0521227766 81858.75368289177, 221134.09735298288 81858.79891309806, 221134.14258318918 81858.79891309806, 221134.18781339546 81858.84414330433, 221134.278273808 81858.84414330433, 221134.3235040143 81858.88937351061, 221134.41396442684 81858.88937351061, 221134.45919463312 81858.93460371689, 221134.54965504567 81858.93460371689, 221134.59488525198 81858.97983392316, 221134.64011545826 81858.97983392316, 221134.68534566453 81859.02506412946, 221134.7758060771 81859.02506412946, 221134.82103628336 81859.07029433573, 221134.86626648964 81859.07029433573, 221134.91149669592 81859.11552454201, 221135.04718731475 81859.11552454201, 221135.09241752105 81859.16075474829, 221135.49948937754 81859.16075474829, 221135.54471958385 81859.20598495456, 221135.58994979013 81859.20598495456, 221135.6351799964 81859.25121516084, 221135.68041020268 81859.25121516084, 221135.72564040896 81859.29644536713, 221135.77087061523 81859.29644536713, 221135.8161008215 81859.3416755734, 221135.8613310278 81859.3416755734, 221135.90656123406 81859.38690577968, 221135.95179144034 81859.38690577968, 221135.99702164662 81859.43213598596, 221136.04225185292 81859.43213598596, 221136.0874820592 81859.47736619224, 221136.13271226548 81859.47736619224, 221136.17794247175 81859.52259639853, 221136.2684028843 81859.52259639853, 221136.35886329686 81859.61305681108, 221136.40409350314 81859.61305681108, 221136.40409350314 81859.65828701736, 221136.4493237094 81859.70351722364, 221136.49455391572 81859.70351722364, 221136.49455391572 81859.74874742993, 221136.58501432827 81859.83920784248, 221136.58501432827 81859.88443804876, 221136.81116535966 81860.11058908016, 221136.85639556593 81860.11058908016, 221137.03731639107 81860.29150990528, 221137.08254659735 81860.29150990528, 221137.12777680362 81860.33674011155, 221137.1730070099 81860.33674011155, 221137.26346742245 81860.42720052412, 221137.30869762873 81860.42720052412, 221137.39915804128 81860.51766093668, 221137.4443882476 81860.51766093668, 221137.48961845387 81860.56289114295, 221137.53484866014 81860.56289114295, 221137.58007886642 81860.60812134923, 221137.6253090727 81860.60812134923, 221137.67053927897 81860.6533515555, 221137.71576948525 81860.6533515555, 221137.76099969153 81860.6985817618, 221137.8062298978 81860.6985817618, 221137.8966903104 81860.78904217435, 221137.94192051666 81860.78904217435, 221138.0776111355 81860.9247327932, 221138.0776111355 81860.96996299947, 221138.12284134177 81861.01519320575, 221138.12284134177 81861.1056536183, 221138.16807154805 81861.1508838246, 221138.16807154805 81861.24134423715, 221138.57514340457 81861.64841609367, 221138.57514340457 81861.73887650622, 221138.62037361084 81861.7841067125, 221138.62037361084 81861.82933691877, 221138.7108340234 81861.91979733134, 221138.7108340234 81861.96502753762, 221138.80129443595 81862.05548795017, 221138.84652464226 81862.05548795017, 221138.89175484853 81862.10071815646, 221139.29882670505 81862.10071815646, 221139.34405691133 81862.14594836274, 221139.3892871176 81862.14594836274, 221139.43451732388 81862.19117856902, 221139.47974753016 81862.19117856902, 221139.52497773644 81862.2364087753, 221139.5702079427 81862.2364087753, 221139.615438149 81862.28163898157, 221139.66066835527 81862.28163898157, 221139.70589856154 81862.32686918786, 221139.70589856154 81862.41732960042, 221139.75112876782 81862.46255980669, 221139.75112876782 81862.50779001297, 221139.79635897413 81862.55302021926, 221139.79635897413 81862.64348063181, 221139.8415891804 81862.68871083809, 221139.8415891804 81862.77917125066, 221139.88681938668 81862.82440145694, 221139.88681938668 81862.96009207577, 221139.93204959296 81863.00532228204, 221139.93204959296 81863.14101290089, 221139.97727979923 81863.18624310716, 221139.97727979923 81863.23147331344, 221140.0677402118 81863.32193372601, 221140.0677402118 81863.36716393229, 221140.24866103692 81863.5480847574, 221140.24866103692 81863.59331496368, 221140.2938912432 81863.63854516996, 221140.33912144948 81863.63854516996, 221140.38435165575 81863.68377537624, 221140.56527248086 81863.68377537624, 221140.61050268714 81863.72900558253, 221140.6557328934 81863.72900558253, 221140.746193306 81863.81946599508, 221140.746193306 81863.90992640764, 221140.79142351227 81863.95515661393, 221140.79142351227 81864.04561702648, 221140.97234433738 81864.2265378516, 221141.01757454366 81864.2265378516, 221141.1080349562 81864.31699826416, 221141.1532651625 81864.31699826416, 221141.1984953688 81864.36222847043, 221141.24372557507 81864.36222847043, 221141.33418598762 81864.452688883, 221141.42464640018 81864.452688883, 221141.46987660645 81864.49791908928, 221141.560337019 81864.49791908928, 221141.60556722528 81864.54314929555, 221141.60556722528 81864.76930032695, 221141.6507974316 81864.81453053323, 221141.6507974316 81864.99545135835, 221141.69602763787 81865.04068156463, 221141.69602763787 81865.0859117709, 221141.74125784414 81865.1311419772, 221141.74125784414 81865.17637218347, 221141.8317182567 81865.26683259603, 221141.8317182567 81865.3120628023, 221141.87694846297 81865.35729300858, 221141.87694846297 81865.40252321487, 221141.96740887553 81865.49298362742, 221141.96740887553 81865.5382138337, 221142.0126390818 81865.58344403998, 221142.05786928808 81865.58344403998, 221142.10309949436 81865.62867424627, 221142.14832970066 81865.62867424627, 221142.23879011322 81865.71913465882, 221142.2840203195 81865.71913465882, 221142.2840203195 81865.7643648651, 221142.32925052577 81865.80959507138, 221142.32925052577 81865.9905158965, 221142.37448073205 81866.03574610277, 221142.37448073205 81866.26189713417, 221142.32925052577 81866.30712734046, 221142.32925052577 81866.35235754674, 221142.2840203195 81866.39758775302, 221142.2840203195 81866.4428179593, 221142.19355990694 81866.53327837185, 221142.19355990694 81866.57850857814, 221141.96740887553 81866.80465960954, 221141.96740887553 81866.89512002209, 221141.92217866925 81866.94035022837, 221141.92217866925 81867.03081064094, 221141.87694846297 81867.07604084721, 221141.87694846297 81867.12127105349, 221141.8317182567 81867.16650125977, 221141.8317182567 81867.21173146604, 221141.78648805042 81867.25696167233, 221141.78648805042 81867.30219187861, 221141.69602763787 81867.39265229116, 221141.69602763787 81867.43788249744, 221141.6507974316 81867.48311270373, 221141.6507974316 81867.52834291001, 221141.60556722528 81867.57357311629, 221141.60556722528 81867.66403352884, 221141.560337019 81867.70926373513, 221141.560337019 81867.75449394141, 221141.51510681273 81867.79972414768, 221141.51510681273 81867.89018456024, 221141.46987660645 81867.93541476651, 221141.46987660645 81868.11633559164, 221141.42464640018 81868.16156579791, 221141.42464640018 81868.29725641676, 221141.3794161939 81868.34248662303, 221141.3794161939 81868.38771682931, 221141.28895578135 81868.47817724188, 221141.28895578135 81868.52340744816, 221141.1984953688 81868.61386786071, 221141.1984953688 81868.659098067, 221141.01757454366 81868.84001889211, 221140.97234433738 81868.84001889211, 221140.9271141311 81868.8852490984, 221140.9271141311 81868.93047930468, 221140.88188392483 81868.93047930468, 221140.83665371855 81868.97570951095, 221140.83665371855 81869.02093971723, 221140.79142351227 81869.0661699235, 221140.79142351227 81869.11140012978, 221140.6557328934 81869.24709074863, 221140.52004227458 81869.24709074863, 221140.4748120683 81869.2923209549, 221140.20343083062 81869.2923209549, 221140.15820062434 81869.33755116118, 221140.11297041806 81869.33755116118, 221140.0677402118 81869.38278136747, 221140.0677402118 81869.47324178003, 221140.0225100055 81869.5184719863, 221140.0225100055 81869.65416260515, 221139.93204959296 81869.65416260515, 221139.88681938668 81869.69939281142, 221139.47974753016 81869.69939281142, 221139.43451732388 81869.7446230177, 221139.34405691133 81869.7446230177, 221139.29882670505 81869.78985322398, 221139.20836629247 81869.78985322398, 221139.1631360862 81869.83508343027, 221138.9822152611 81869.83508343027, 221138.9369850548 81869.88031363655, 221138.7108340234 81869.88031363655, 221138.66560381712 81869.92554384282, 221138.30376216688 81869.92554384282, 221138.2585319606 81869.9707740491, 221137.48961845387 81869.9707740491))\",\n          \"POLYGON ((221093.8424693941 81840.16406811087, 221093.79723918778 81840.11883790459, 221093.70677877523 81840.11883790459, 221093.66154856895 81840.07360769832, 221093.5710881564 81840.07360769832, 221093.52585795012 81840.02837749204, 221093.3901673313 81840.02837749204, 221093.34493712502 81839.98314728575, 221093.1187860936 81839.98314728575, 221093.07355588733 81839.93791707947, 221092.71171423708 81839.93791707947, 221092.6664840308 81839.8926868732, 221091.94280073035 81839.8926868732, 221091.89757052404 81839.84745666692, 221091.7618799052 81839.84745666692, 221091.71664969894 81839.80222646064, 221091.67141949266 81839.80222646064, 221091.62618928638 81839.75699625435, 221091.5809590801 81839.75699625435, 221091.3548080487 81839.53084522295, 221091.3548080487 81839.48561501667, 221091.26434763614 81839.39515460412, 221091.26434763614 81839.30469419155, 221091.21911742986 81839.25946398528, 221091.21911742986 81839.16900357272, 221091.1738872236 81839.12377336645, 221091.1738872236 81838.9880827476, 221091.1286570173 81838.94285254132, 221091.1286570173 81838.44532027225, 221091.08342681103 81838.40009006597, 221091.08342681103 81837.99301820945, 221091.03819660476 81837.94778800318, 221091.03819660476 81837.81209738433, 221090.99296639848 81837.76686717806, 221090.99296639848 81837.63117655921, 221090.94773619217 81837.58594635293, 221090.94773619217 81836.9979536713, 221090.99296639848 81836.95272346502, 221090.99296639848 81836.04811933944, 221090.94773619217 81836.00288913315, 221090.94773619217 81835.91242872059, 221090.9025059859 81835.86719851432, 221090.9025059859 81835.64104748292, 221090.85727577962 81835.59581727664, 221090.85727577962 81835.36966624524, 221090.81204557334 81835.32443603895, 221090.81204557334 81835.14351521384, 221090.76681536707 81835.09828500757, 221090.76681536707 81835.05305480128, 221090.7215851608 81835.007824595, 221090.7215851608 81834.91736418245, 221090.6763549545 81834.87213397617, 221090.6763549545 81834.69121315105, 221090.63112474824 81834.64598294477, 221090.63112474824 81834.46506211965, 221090.58589454196 81834.41983191337, 221090.58589454196 81834.37460170708, 221090.54066433568 81834.3293715008, 221090.54066433568 81834.28414129453, 221090.4502039231 81834.19368088197, 221090.4502039231 81834.14845067568, 221090.40497371682 81834.1032204694, 221090.40497371682 81834.05799026313, 221090.35974351055 81834.01276005685, 221090.35974351055 81833.9222996443, 221090.31451330427 81833.87706943801, 221090.31451330427 81833.83183923173, 221090.269283098 81833.78660902545, 221090.269283098 81833.6961486129, 221090.13359247916 81833.56045799406, 221090.13359247916 81833.51522778778, 221090.04313206658 81833.42476737521, 221090.04313206658 81833.37953716893, 221089.95267165403 81833.28907675638, 221089.95267165403 81833.2438465501, 221089.90744144775 81833.19861634381, 221089.90744144775 81833.15338613754, 221089.86221124147 81833.10815593126, 221089.86221124147 81833.0176955187, 221089.8169810352 81832.97246531241, 221089.8169810352 81832.92723510614, 221089.72652062264 81832.83677469358, 221089.72652062264 81832.7915444873, 221089.5908300038 81832.65585386846, 221089.5908300038 81832.61062366219, 221089.50036959123 81832.52016324963, 221089.50036959123 81832.47493304334, 221089.40990917868 81832.38447263079, 221089.40990917868 81832.33924242451, 221089.31944876612 81832.24878201194, 221089.31944876612 81832.20355180567, 221089.27421855985 81832.15832159939, 221089.27421855985 81832.11309139311, 221089.22898835357 81832.06786118684, 221089.22898835357 81832.02263098054, 221089.1837581473 81831.97740077427, 221089.1837581473 81831.93217056799, 221089.13852794102 81831.88694036171, 221089.13852794102 81831.84171015544, 221089.0932977347 81831.79647994915, 221089.0932977347 81831.75124974287, 221089.04806752843 81831.70601953659, 221089.04806752843 81831.66078933032, 221089.00283732216 81831.61555912404, 221089.00283732216 81831.52509871147, 221088.95760711588 81831.4798685052, 221088.95760711588 81831.43463829892, 221088.9123769096 81831.38940809264, 221088.9123769096 81831.29894768007, 221088.86714670333 81831.2537174738, 221088.86714670333 81831.16325706124, 221088.82191649705 81831.11802685497, 221088.82191649705 81830.75618520472, 221088.77668629077 81830.71095499845, 221088.77668629077 81830.1681925231, 221088.7314560845 81830.1229623168, 221088.7314560845 81830.03250190425, 221088.68622587822 81829.98727169797, 221088.68622587822 81829.8968112854, 221088.6409956719 81829.85158107913, 221088.6409956719 81829.76112066658, 221088.59576546564 81829.7158904603, 221088.59576546564 81829.62543004773, 221088.55053525936 81829.58019984145, 221088.55053525936 81829.35404881006, 221088.50530505308 81829.30881860378, 221088.50530505308 81829.08266757238, 221088.4600748468 81829.0374373661, 221088.4600748468 81827.95191241539, 221088.50530505308 81827.90668220911, 221088.50530505308 81827.81622179656, 221088.55053525936 81827.77099159027, 221088.55053525936 81827.63530097144, 221088.59576546564 81827.59007076516, 221088.59576546564 81827.45438014632, 221088.7314560845 81827.31868952747, 221088.77668629077 81827.31868952747, 221088.82191649705 81827.2734593212, 221088.86714670333 81827.2734593212, 221088.9123769096 81827.22822911492, 221088.95760711588 81827.22822911492, 221089.00283732216 81827.18299890864, 221089.04806752843 81827.18299890864, 221089.13852794102 81827.09253849607, 221089.1837581473 81827.09253849607, 221089.22898835357 81827.0473082898, 221089.27421855985 81827.0473082898, 221089.40990917868 81826.91161767096, 221089.45513938495 81826.91161767096, 221089.77175082892 81826.595006227, 221089.8169810352 81826.595006227, 221089.86221124147 81826.54977602072, 221089.90744144775 81826.54977602072, 221089.95267165403 81826.50454581445, 221089.9979018603 81826.50454581445, 221090.04313206658 81826.45931560817, 221090.0883622729 81826.45931560817, 221090.17882268544 81826.3688551956, 221090.22405289172 81826.3688551956, 221090.269283098 81826.32362498932, 221090.35974351055 81826.32362498932, 221090.40497371682 81826.27839478305, 221090.58589454196 81826.27839478305, 221090.63112474824 81826.23316457677, 221091.1286570173 81826.23316457677, 221091.1738872236 81826.27839478305, 221091.26434763614 81826.27839478305, 221091.30957784242 81826.32362498932, 221091.3548080487 81826.32362498932, 221091.40003825497 81826.3688551956, 221091.62618928638 81826.3688551956, 221091.67141949266 81826.41408540189, 221091.7618799052 81826.41408540189, 221091.85234031777 81826.50454581445, 221091.89757052404 81826.50454581445, 221092.0332611429 81826.64023643329, 221092.07849134918 81826.64023643329, 221092.12372155546 81826.68546663957, 221092.84740485591 81826.68546663957, 221092.89263506222 81826.73069684584, 221093.1187860936 81826.73069684584, 221093.25447671243 81826.86638746467, 221093.2997069187 81826.86638746467, 221093.43539753757 81827.00207808352, 221093.48062774385 81827.00207808352, 221093.52585795012 81827.0473082898, 221093.61631836268 81827.0473082898, 221093.70677877523 81827.13776870236, 221093.79723918778 81827.13776870236, 221093.88769960037 81827.22822911492, 221093.93292980664 81827.22822911492, 221094.0233902192 81827.31868952747, 221094.06862042547 81827.31868952747, 221094.11385063175 81827.36391973376, 221094.15908083803 81827.36391973376, 221094.2043110443 81827.40914994004, 221094.24954125058 81827.40914994004, 221094.2947714569 81827.45438014632, 221094.34000166316 81827.45438014632, 221094.38523186944 81827.49961035259, 221094.43046207572 81827.49961035259, 221094.475692282 81827.54484055887, 221094.52092248827 81827.54484055887, 221094.56615269455 81827.59007076516, 221094.61138290082 81827.59007076516, 221094.74707351968 81827.72576138399, 221094.79230372596 81827.72576138399, 221094.8827641385 81827.81622179656, 221094.9279943448 81827.81622179656, 221094.97322455107 81827.86145200283, 221095.01845475734 81827.86145200283, 221095.06368496362 81827.90668220911, 221095.1089151699 81827.90668220911, 221095.15414537617 81827.95191241539, 221095.19937558245 81827.95191241539, 221095.28983599503 81828.04237282794, 221095.28983599503 81828.08760303423, 221095.69690785155 81828.49467489074, 221095.69690785155 81828.53990509703, 221095.9682890892 81828.8112863347, 221096.0135192955 81828.8112863347, 221096.0135192955 81828.85651654098, 221096.19444012063 81829.0374373661, 221096.19444012063 81829.08266757238, 221096.33013073946 81829.21835819121, 221096.33013073946 81829.2635883975, 221096.420591152 81829.35404881006, 221096.420591152 81829.39927901633, 221096.51105156456 81829.4897394289, 221096.51105156456 81829.58019984145, 221096.55628177084 81829.62543004773, 221096.55628177084 81829.7158904603, 221096.60151197712 81829.76112066658, 221096.60151197712 81829.85158107913, 221096.64674218342 81829.8968112854, 221096.64674218342 81829.9420414917, 221096.6919723897 81829.98727169797, 221096.6919723897 81830.07773211053, 221096.73720259598 81830.1229623168, 221096.73720259598 81830.1681925231, 221096.78243280225 81830.21342272937, 221096.78243280225 81830.25865293565, 221096.82766300853 81830.30388314193, 221096.82766300853 81830.3491133482, 221096.8728932148 81830.3943435545, 221096.8728932148 81830.43957376077, 221096.91812342108 81830.48480396705, 221096.91812342108 81830.53003417332, 221096.96335362736 81830.5752643796, 221097.3251952776 81830.5752643796, 221097.37042548388 81830.62049458588, 221097.41565569016 81830.5752643796, 221097.46088589643 81830.5752643796, 221097.5061161027 81830.53003417332, 221097.551346309 81830.53003417332, 221097.64180672157 81830.62049458588, 221097.64180672157 81830.66572479217, 221097.68703692785 81830.71095499845, 221097.68703692785 81830.84664561728, 221097.73226713412 81830.89187582357, 221097.73226713412 81830.93710602984, 221097.7774973404 81830.98233623612, 221097.7774973404 81831.0275664424, 221097.82272754668 81831.07279664867, 221097.82272754668 81831.11802685497, 221098.0488785781 81831.34417788636, 221098.09410878437 81831.34417788636, 221098.27502960947 81831.52509871147, 221098.32025981575 81831.52509871147, 221098.36549002203 81831.4798685052, 221098.36549002203 81832.06786118684, 221098.27502960947 81832.15832159939, 221098.27502960947 81832.29401221823, 221098.2297994032 81832.33924242451, 221098.2297994032 81832.38447263079, 221098.18456919692 81832.42970283706, 221098.18456919692 81832.47493304334, 221098.13933899064 81832.52016324963, 221098.13933899064 81832.92723510614, 221098.18456919692 81832.97246531241, 221098.18456919692 81833.60568820033, 221098.2297994032 81833.65091840661, 221098.2297994032 81833.78660902545, 221098.27502960947 81833.83183923173, 221098.27502960947 81833.87706943801, 221098.32025981575 81833.9222996443, 221098.32025981575 81834.01276005685, 221098.36549002203 81834.05799026313, 221098.36549002203 81834.1032204694, 221098.4107202283 81834.14845067568, 221098.4107202283 81834.28414129453, 221098.45595043458 81834.3293715008, 221098.45595043458 81834.69121315105, 221098.50118064086 81834.73644335732, 221098.50118064086 81834.7816735636, 221098.72733167227 81835.007824595, 221098.77256187855 81835.007824595, 221098.95348270366 81835.18874542012, 221098.95348270366 81835.2339756264, 221099.0891733225 81835.36966624524, 221099.0891733225 81835.41489645152, 221099.17963373507 81835.50535686407, 221099.22486394134 81835.50535686407, 221099.3153243539 81835.59581727664, 221099.36055456017 81835.59581727664, 221099.40578476645 81835.64104748292, 221099.45101497276 81835.64104748292, 221099.49624517903 81835.6862776892, 221099.5414753853 81835.6862776892, 221099.81285662297 81835.95765892687, 221099.81285662297 81836.00288913315, 221099.85808682925 81836.04811933944, 221099.85808682925 81836.09334954571, 221099.90331703553 81836.13857975199, 221099.90331703553 81836.18380995827, 221099.94854724183 81836.22904016454, 221099.94854724183 81836.27427037084, 221099.9937774481 81836.31950057711, 221099.9937774481 81836.40996098967, 221100.03900765438 81836.45519119594, 221100.03900765438 81836.50042140222, 221100.08423786066 81836.54565160851, 221100.08423786066 81836.63611202106, 221100.03900765438 81836.68134222734, 221100.03900765438 81837.31456511526, 221099.9937774481 81837.35979532154, 221099.9937774481 81837.54071614666, 221099.94854724183 81837.58594635293, 221099.94854724183 81837.63117655921, 221099.85808682925 81837.72163697178, 221099.85808682925 81837.76686717806, 221099.81285662297 81837.81209738433, 221099.81285662297 81837.85732759061, 221099.7676264167 81837.90255779689, 221099.7676264167 81837.99301820945, 221099.72239621042 81838.03824841573, 221099.72239621042 81838.08347862201, 221099.67716600414 81838.12870882828, 221099.67716600414 81838.17393903458, 221099.63193579786 81838.21916924085, 221099.63193579786 81838.26439944713, 221099.40578476645 81838.49055047853, 221099.36055456017 81838.49055047853, 221099.27009414762 81838.58101089108, 221099.22486394134 81838.58101089108, 221099.1344035288 81838.67147130365, 221099.0891733225 81838.67147130365, 221098.95348270366 81838.80716192248, 221098.90825249738 81838.80716192248, 221098.81779208482 81838.89762233505, 221098.77256187855 81838.89762233505, 221098.72733167227 81838.94285254132, 221098.682101466 81838.94285254132, 221098.63687125972 81838.9880827476, 221098.59164105344 81838.9880827476, 221098.54641084716 81839.03331295388, 221098.50118064086 81839.03331295388, 221098.45595043458 81839.07854316015, 221098.4107202283 81839.07854316015, 221098.36549002203 81839.12377336645, 221098.32025981575 81839.12377336645, 221098.2297994032 81839.214233779, 221098.18456919692 81839.214233779, 221098.0488785781 81839.34992439784, 221098.00364837178 81839.34992439784, 221097.9584181655 81839.39515460412, 221097.86795775295 81839.39515460412, 221097.82272754668 81839.4403848104, 221097.68703692785 81839.4403848104, 221097.64180672157 81839.48561501667, 221097.551346309 81839.48561501667, 221097.5061161027 81839.53084522295, 221097.3251952776 81839.53084522295, 221097.27996507133 81839.57607542924, 221097.18950465877 81839.57607542924, 221097.1442744525 81839.62130563552, 221097.05381403991 81839.62130563552, 221097.00858383364 81839.6665358418, 221096.91812342108 81839.6665358418, 221096.8728932148 81839.71176604807, 221096.78243280225 81839.71176604807, 221096.73720259598 81839.75699625435, 221096.420591152 81839.75699625435, 221096.37536094573 81839.80222646064, 221095.92305888294 81839.80222646064, 221095.87782867666 81839.84745666692, 221095.74213805783 81839.84745666692, 221095.69690785155 81839.8926868732, 221095.5612172327 81839.8926868732, 221095.51598702642 81839.93791707947, 221095.42552661386 81839.93791707947, 221095.3802964076 81839.98314728575, 221095.24460578876 81839.98314728575, 221095.19937558245 81840.02837749204, 221094.97322455107 81840.02837749204, 221094.9279943448 81840.07360769832, 221094.83753393224 81840.07360769832, 221094.79230372596 81840.11883790459, 221094.6566131071 81840.11883790459, 221094.61138290082 81840.16406811087, 221093.8424693941 81840.16406811087))\"\n        ],\n        \"semantic_type\": \"\",\n        \"description\": \"\"\n      }\n    }\n  ]\n}"
                        }
                    },
                    "metadata": {},
                    "execution_count": 35
                }
            ]
        },
        {
            "cell_type": "markdown",
            "source": [
                "# Final Code"
            ],
            "metadata": {
                "id": "khe98DJ6vXw7"
            }
        },
        {
            "cell_type": "code",
            "source": [
                "from detectree2.preprocessing.tiling import tile_data\n",
                "from detectree2.models.outputs import project_to_geojson, stitch_crowns, clean_crowns\n",
                "from detectree2.models.predict import predict_on_data\n",
                "from detectree2.models.train import setup_cfg\n",
                "from detectron2.engine import DefaultPredictor\n",
                "import rasterio"
            ],
            "metadata": {
                "id": "7T3VHL2VvaTH"
            },
            "execution_count": null,
            "outputs": []
        },
        {
            "cell_type": "code",
            "source": [
                "import geopandas as gpd\n",
                "import math\n",
                "from rasterstats import zonal_stats\n",
                "import rasterio as rio\n",
                "import numpy as np"
            ],
            "metadata": {
                "id": "gudRVkYcxrnZ"
            },
            "execution_count": null,
            "outputs": []
        },
        {
            "cell_type": "code",
            "source": [
                "def delineate_forest(ortho_path, tiles_path=\"\"):\n",
                "    \"\"\"\n",
                "    Delineate trees on the forest's orthomosaic\n",
                "\n",
                "    Args:\n",
                "        ortho_path (str): orthomosaic file path\n",
                "        tiles_path (str): tiling_path (optional)\n",
                "\n",
                "    Returns:\n",
                "        cleaned_crown (geoDataFrame): cleaned overlapping delineated tree crowns\n",
                "    \"\"\"\n",
                "\n",
                "    buffer = 20\n",
                "    tile_width = 30\n",
                "    tile_height = 30\n",
                "    print(\"Tiling orthomosaic...\")\n",
                "    if tiles_path == \"\":\n",
                "        tiles_path = \"/tilespred_temp/\"\n",
                "    else:\n",
                "        tiles_path = tiles_path\n",
                "    tile_data(ortho_path, tiles_path, buffer, tile_width, tile_height, dtype_bool = True)\n",
                "    print(\"Done tiling.\")\n",
                "\n",
                "    resnet_pr_model = \"/content/drive/MyDrive/Research/model_resnet_pointrend/model_9.pth\"\n",
                "    base_resnetpr_model= \"/content/detectron2/projects/PointRend/configs/InstanceSegmentation/pointrend_rcnn_R_101_FPN_3x_coco.yaml\"\n",
                "\n",
                "    print(\"Delineating trees...\")\n",
                "    cfg = setup_cfg(model_source=\"point_rend\", base_model=base_resnetpr_model, update_model=resnet_pr_model)\n",
                "    predict_on_data(tiles_path, predictor=DefaultPredictor(cfg))\n",
                "    project_to_geojson(tiles_path, tiles_path + \"predictions/\", tiles_path + \"predictions_geo/\")\n",
                "    crowns = stitch_crowns(tiles_path + \"predictions_geo/\", 1)\n",
                "    cleaned_crown = clean_crowns(crowns, 0.4, confidence=0.15)\n",
                "    cleaned_crown.to_file(\"crown_pred\" + \".gpkg\")\n",
                "    print(\"\\nProcess completed.\")\n",
                "\n",
                "    return cleaned_crown"
            ],
            "metadata": {
                "id": "95BlxIVqvY0o"
            },
            "execution_count": null,
            "outputs": []
        },
        {
            "cell_type": "code",
            "source": [
                "def crown_zonalstats(crown_path, chm_path, clean=True):\n",
                "    \"\"\"\n",
                "    Perform zonal statistic on crown and the input CHM\n",
                "\n",
                "    Args:\n",
                "        crown_path (str or geoDataFrame): crown file path or crown geoDataFrame\n",
                "        chm_path (str): path of the CHM file\n",
                "\n",
                "    Returns:\n",
                "        mod_in_crown (geoDataFrame): modified crown geoDataFrame\n",
                "    \"\"\"\n",
                "\n",
                "    if type(crown_path) == str:\n",
                "        in_crown = gpd.read_file(crown_path)\n",
                "    else:\n",
                "        in_crown = crown_path\n",
                "    mod_in_crown = in_crown.copy()\n",
                "    crown_list = list(mod_in_crown.geometry)\n",
                "    mod_in_crown[\"height\"] = 0.00\n",
                "    mod_in_crown[\"th_median\"] = 0.00\n",
                "    mod_in_crown[\"th_std\"] = 0.00\n",
                "    mod_in_crown[\"category\"] = \"\"\n",
                "\n",
                "    for c_id, crown_poly in enumerate(crown_list):\n",
                "        zstat_data = zonal_stats(crown_poly, chm_path, stats=\"max median std\")\n",
                "        tree_height = zstat_data[0][\"max\"]\n",
                "        th_median = zstat_data[0][\"median\"]\n",
                "        th_std = zstat_data[0][\"std\"]\n",
                "        mod_in_crown.loc[c_id, \"height\"] = tree_height\n",
                "        mod_in_crown.loc[c_id, \"th_median\"] = th_median\n",
                "        mod_in_crown.loc[c_id, \"th_std\"] = th_std\n",
                "\n",
                "        if height <= 0:\n",
                "            mod_in_crown.loc[c_id, \"category\"] = \"Not Tree\"\n",
                "        else if height > 0 and (th_median < 2 or th_std < 2):\n",
                "            mod_in_crown.loc[c_id, \"category\"] = \"Not Tree\"\n",
                "        else:\n",
                "            mod_in_crown.loc[c_id, \"category\"] = \"Tree\"\n",
                "\n",
                "    if clean:\n",
                "        mod_in_crown = mod_in_crown[mod_in_crown[\"category\"] == \"Not Tree\"]\n",
                "\n",
                "    mod_in_crown.to_file(\"zonal_cleaned\" + \".gpkg\")\n",
                "\n",
                "    print(\"Crown has ben cleaned.\")\n",
                "\n",
                "    return mod_in_crown"
            ],
            "metadata": {
                "id": "QhCG9eJ5skCR"
            },
            "execution_count": null,
            "outputs": []
        },
        {
            "cell_type": "code",
            "source": [
                "def process_chm(dsm_path, dtm_path):\n",
                "    \"\"\"\n",
                "    Generate CHM from DSM and DTM\n",
                "\n",
                "    Args:\n",
                "        dsm_path (str): path of the DSM file\n",
                "        dtm_path (str): path of the DTM file\n",
                "\n",
                "    Returns:\n",
                "        ds_chm (array): CHM in np.ndarray format\n",
                "        src_dsm.meta (dict): DSM metadata\n",
                "    \"\"\"\n",
                "\n",
                "    src_dsm = rio.open(dsm_path)\n",
                "    src_dtm = rio.open(dtm_path)\n",
                "\n",
                "    ds_dsm = src_dsm.read()\n",
                "    ds_dtm = src_dtm.read()\n",
                "\n",
                "    ds_dsm_c = ds_dsm.copy()\n",
                "    ds_dtm_c = ds_dtm.copy()\n",
                "\n",
                "    ds_chm = ds_dsm_c - ds_dtm_c\n",
                "\n",
                "    return ds_chm, src_dsm.meta"
            ],
            "metadata": {
                "id": "w29q_y-wX2MK"
            },
            "execution_count": null,
            "outputs": []
        },
        {
            "cell_type": "code",
            "source": [
                "from rasterio.io import MemoryFile\n",
                "\n",
                "def zonal_cleaning(dsm_path, dtm_path, crown_path, to_file=False, file_name=\"temp_name\", clean_crown=True):\n",
                "    \"\"\"\n",
                "    Zonal cleaning handler and CHM generation\n",
                "\n",
                "    Args:\n",
                "        dsm_path (str): path of the DSM file\n",
                "        dtm_path (str): path of the DTM file\n",
                "        crown_path (str or geoDataFrame): crown file path or crown geoDataFrame\n",
                "        to_file(boolean): output CHM to a file\n",
                "        clean_crown(boolean): clean crown\n",
                "\n",
                "    Returns:\n",
                "        mod_in_crown (geoDataFrame): modified crown geoDataFrame from\n",
                "                                     crown_zonalstats() function\n",
                "    \"\"\"\n",
                "\n",
                "    # CHM generation from DSM and DTM\n",
                "    ds_chm, out_meta = process_chm(dsm_path, dtm_path)\n",
                "\n",
                "    print(\"Performing zonal cleaning...\")\n",
                "    # If user want CHM output\n",
                "    if to_file:\n",
                "        out_meta = out_meta\n",
                "\n",
                "        # chm_path = site_path + \"/CHM_4\" + \".tif\"\n",
                "        chm_path = file_name + \".tif\"\n",
                "        with rio.open(chm_path, \"w\", **out_meta) as dest:\n",
                "            dest.write(ds_chm)\n",
                "\n",
                "        return crown_zonalstats(crown_path, chm_path, clean_crown)\n",
                "\n",
                "    # Otherwise, chm only as temp file\n",
                "    else:\n",
                "        with MemoryFile() as temp_file:\n",
                "          with temp_file.open(**out_meta) as dataset:\n",
                "              dataset.write(ds_chm)\n",
                "\n",
                "          return crown_zonalstats(crown_path, temp_file, clean_crown)"
            ],
            "metadata": {
                "id": "LKBCtQDhqkF_"
            },
            "execution_count": null,
            "outputs": []
        },
        {
            "cell_type": "code",
            "source": [
                "ortho_path = \"/content/drive/MyDrive/Research/data/LS_Area/rgb/ls_plot_0.tif\""
            ],
            "metadata": {
                "id": "u7u7Le85vpMX"
            },
            "execution_count": null,
            "outputs": []
        },
        {
            "cell_type": "code",
            "source": [
                "site_path = \"/content/drive/MyDrive/Research/data/DSTM\"\n",
                "dsm_path = site_path + \"/DSM_Clip_3.tif\"\n",
                "dtm_path = site_path + \"/DTM_Clip_3.tif\""
            ],
            "metadata": {
                "id": "IhQngHEpswBl"
            },
            "execution_count": null,
            "outputs": []
        },
        {
            "cell_type": "code",
            "source": [
                "cleaned = delineate_forest(ortho_path)"
            ],
            "metadata": {
                "id": "Ubmn31EsvnvK"
            },
            "execution_count": null,
            "outputs": []
        },
        {
            "cell_type": "code",
            "source": [
                "zonal_cleaned = zonal_cleaning(dsm_path, dtm_path, cleaned, to_file=True, file_name=\"CHM_3\", clean_crown=False)"
            ],
            "metadata": {
                "colab": {
                    "base_uri": "https://localhost:8080/"
                },
                "id": "GjGPIM11ZClY",
                "executionInfo": {
                    "status": "ok",
                    "timestamp": 1752571765707,
                    "user_tz": -420,
                    "elapsed": 266,
                    "user": {
                        "displayName": "23223042 Geraldio Ramadhan Safitri",
                        "userId": "09900519620479609915"
                    }
                },
                "outputId": "edf08be9-b094-4083-dde3-a0f1c2769e93"
            },
            "execution_count": null,
            "outputs": [
                {
                    "output_type": "stream",
                    "name": "stdout",
                    "text": [
                        "Performing zonal cleaning...\n",
                        "Crown has ben cleaned.\n"
                    ]
                }
            ]
        },
        {
            "cell_type": "markdown",
            "source": [
                "# Constants"
            ],
            "metadata": {
                "id": "hIT_hpCgqp-M"
            }
        },
        {
            "cell_type": "code",
            "source": [
                "resnet_model = \"/content/drive/MyDrive/Research/model_resnet/model_17.pth\""
            ],
            "metadata": {
                "id": "O1MWC3swq_YT"
            },
            "execution_count": null,
            "outputs": []
        },
        {
            "cell_type": "code",
            "source": [
                "resnext_model = \"/content/drive/MyDrive/Research/model_resnext/model_17.pth\"\n",
                "base_resnext_model = \"COCO-InstanceSegmentation/mask_rcnn_X_101_32x8d_FPN_3x.yaml\""
            ],
            "metadata": {
                "id": "nz7Phq3kq6mu"
            },
            "execution_count": null,
            "outputs": []
        },
        {
            "cell_type": "code",
            "source": [
                "resnet_pr_model = \"/content/drive/MyDrive/Research/model_resnet_pointrend/model_9.pth\"\n",
                "base_resnetpr_model= \"/content/detectron2/projects/PointRend/configs/InstanceSegmentation/pointrend_rcnn_R_101_FPN_3x_coco.yaml\""
            ],
            "metadata": {
                "id": "KmsajkeFqrYn"
            },
            "execution_count": null,
            "outputs": []
        },
        {
            "cell_type": "code",
            "source": [
                "resnext_pr_model = \"/content/drive/MyDrive/Research/model_resnext_pointrend/model_12.pth\"\n",
                "base_resnextpr_model = \"/content/detectron2/projects/PointRend/configs/InstanceSegmentation/pointrend_rcnn_X_101_32x8d_FPN_3x_coco.yaml\""
            ],
            "metadata": {
                "id": "-K134K9Qqzsn"
            },
            "execution_count": null,
            "outputs": []
        },
        {
            "cell_type": "code",
            "source": [],
            "metadata": {
                "id": "eIDyEM8Lq_1o"
            },
            "execution_count": null,
            "outputs": []
        }
    ]
}